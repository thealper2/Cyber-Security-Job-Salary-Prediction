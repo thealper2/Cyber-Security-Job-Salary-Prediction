{
 "cells": [
  {
   "cell_type": "code",
   "execution_count": null,
   "id": "f43fe58c",
   "metadata": {},
   "outputs": [],
   "source": [
    "import numpy as np\n",
    "import pandas as pd\n",
    "import matplotlib.pyplot as plt\n",
    "import seaborn as sns"
   ]
  },
  {
   "cell_type": "code",
   "execution_count": null,
   "id": "8fa39d56",
   "metadata": {},
   "outputs": [],
   "source": [
    "df = pd.read_csv(\"salaries_cyber.csv\")"
   ]
  },
  {
   "cell_type": "code",
   "execution_count": null,
   "id": "c0621541",
   "metadata": {},
   "outputs": [],
   "source": [
    "df.head()"
   ]
  },
  {
   "cell_type": "code",
   "execution_count": null,
   "id": "1bab3a89",
   "metadata": {},
   "outputs": [],
   "source": [
    "df.shape"
   ]
  },
  {
   "cell_type": "code",
   "execution_count": null,
   "id": "a8b790a5",
   "metadata": {},
   "outputs": [],
   "source": [
    "df.isnull().sum()"
   ]
  },
  {
   "cell_type": "code",
   "execution_count": null,
   "id": "e0a075a3",
   "metadata": {},
   "outputs": [],
   "source": [
    "df.info()"
   ]
  },
  {
   "cell_type": "markdown",
   "id": "c138d446",
   "metadata": {},
   "source": [
    "# EDA"
   ]
  },
  {
   "cell_type": "code",
   "execution_count": null,
   "id": "711de424",
   "metadata": {},
   "outputs": [],
   "source": [
    "df[\"job_title\"].value_counts().head(10).plot(kind=\"barh\")"
   ]
  },
  {
   "cell_type": "code",
   "execution_count": null,
   "id": "ab19068d",
   "metadata": {},
   "outputs": [],
   "source": [
    "df[\"job_title\"].value_counts().head(15).plot(kind=\"pie\", autopct=\"%.2f%%\")"
   ]
  },
  {
   "cell_type": "code",
   "execution_count": null,
   "id": "6afc9ce6",
   "metadata": {},
   "outputs": [],
   "source": [
    "df[\"experience_level\"].value_counts().plot(kind=\"pie\", autopct=\"%.2f%%\")"
   ]
  },
  {
   "cell_type": "code",
   "execution_count": null,
   "id": "978454c2",
   "metadata": {},
   "outputs": [],
   "source": [
    "df[\"employment_type\"].value_counts().plot(kind=\"bar\")"
   ]
  },
  {
   "cell_type": "code",
   "execution_count": null,
   "id": "bde1e521",
   "metadata": {},
   "outputs": [],
   "source": [
    "sns.boxplot(data=df, x=\"experience_level\", y=\"salary_in_usd\")"
   ]
  },
  {
   "cell_type": "code",
   "execution_count": null,
   "id": "8e143435",
   "metadata": {},
   "outputs": [],
   "source": [
    "sns.boxplot(data=df, x=\"employment_type\", y=\"salary_in_usd\")"
   ]
  },
  {
   "cell_type": "code",
   "execution_count": null,
   "id": "85061741",
   "metadata": {},
   "outputs": [],
   "source": [
    "sns.violinplot(data=df, x=\"work_year\", y=\"salary_in_usd\")"
   ]
  },
  {
   "cell_type": "code",
   "execution_count": null,
   "id": "9360229a",
   "metadata": {},
   "outputs": [],
   "source": [
    "job_salary = df.groupby(\"job_title\", as_index=False)[[\"salary_in_usd\"]].max().sort_values(by=\"salary_in_usd\", ascending=False)\n",
    "job_salary"
   ]
  },
  {
   "cell_type": "code",
   "execution_count": null,
   "id": "59152e2d",
   "metadata": {},
   "outputs": [],
   "source": [
    "df[\"job_title\"].nunique()"
   ]
  },
  {
   "cell_type": "code",
   "execution_count": null,
   "id": "92dd6db7",
   "metadata": {},
   "outputs": [],
   "source": [
    "sns.barplot(y=job_salary[\"job_title\"].head(10), x=job_salary[\"salary_in_usd\"].head(10))"
   ]
  },
  {
   "cell_type": "code",
   "execution_count": null,
   "id": "f9690ce7",
   "metadata": {},
   "outputs": [],
   "source": [
    "experience_salary = df.groupby(\"experience_level\", as_index=False)[[\"salary_in_usd\"]].max().sort_values(by=\"salary_in_usd\", ascending=False)\n",
    "experience_salary"
   ]
  },
  {
   "cell_type": "code",
   "execution_count": null,
   "id": "892102b8",
   "metadata": {},
   "outputs": [],
   "source": [
    "sns.barplot(y=experience_salary[\"experience_level\"].head(10), x=experience_salary[\"salary_in_usd\"].head(10))"
   ]
  },
  {
   "cell_type": "code",
   "execution_count": null,
   "id": "d175cada",
   "metadata": {},
   "outputs": [],
   "source": [
    "employment_salary = df.groupby(\"employment_type\", as_index=False)[[\"salary_in_usd\"]].max().sort_values(by=\"salary_in_usd\", ascending=False)\n",
    "employment_salary"
   ]
  },
  {
   "cell_type": "code",
   "execution_count": null,
   "id": "3cf6411d",
   "metadata": {},
   "outputs": [],
   "source": [
    "sns.barplot(y=employment_salary[\"employment_type\"].head(10), x=employment_salary[\"salary_in_usd\"].head(10))"
   ]
  },
  {
   "cell_type": "code",
   "execution_count": null,
   "id": "829866b2",
   "metadata": {},
   "outputs": [],
   "source": [
    "from sklearn.preprocessing import LabelEncoder\n",
    "\n",
    "def label_encoder(column):\n",
    "    le = LabelEncoder().fit(column)\n",
    "    print(column.name, le.classes_)\n",
    "    return le.transform(column)"
   ]
  },
  {
   "cell_type": "code",
   "execution_count": null,
   "id": "69bc12d5",
   "metadata": {},
   "outputs": [],
   "source": [
    "df.drop([\"salary\", \"salary_currency\"], axis=1, inplace=True)"
   ]
  },
  {
   "cell_type": "code",
   "execution_count": null,
   "id": "7407e83b",
   "metadata": {},
   "outputs": [],
   "source": [
    "Q1 = df.quantile(0.25)\n",
    "Q3 = df.quantile(0.75)\n",
    "IQR = Q3 - Q1"
   ]
  },
  {
   "cell_type": "code",
   "execution_count": null,
   "id": "04089b38",
   "metadata": {},
   "outputs": [],
   "source": [
    "alt_sinir = Q1 - 1.5 * IQR\n",
    "ust_sinir = Q3 + 1.5 * IQR"
   ]
  },
  {
   "cell_type": "code",
   "execution_count": null,
   "id": "5048a85e",
   "metadata": {},
   "outputs": [],
   "source": [
    "t_df = df[~((df < alt_sinir) | (df > ust_sinir)).any(axis=1)]"
   ]
  },
  {
   "cell_type": "code",
   "execution_count": null,
   "id": "a3549447",
   "metadata": {},
   "outputs": [],
   "source": [
    "t_df.shape"
   ]
  },
  {
   "cell_type": "code",
   "execution_count": null,
   "id": "779ca8a3",
   "metadata": {},
   "outputs": [],
   "source": [
    "t_df[\"work_year\"] = label_encoder(t_df[\"work_year\"])"
   ]
  },
  {
   "cell_type": "code",
   "execution_count": null,
   "id": "8e5323cc",
   "metadata": {},
   "outputs": [],
   "source": [
    "experience_dummy = pd.get_dummies(t_df[\"experience_level\"], dtype=np.int64)"
   ]
  },
  {
   "cell_type": "code",
   "execution_count": null,
   "id": "62762cb9",
   "metadata": {},
   "outputs": [],
   "source": [
    "t_df[\"employee_residence\"] = label_encoder(t_df[\"employee_residence\"])"
   ]
  },
  {
   "cell_type": "code",
   "execution_count": null,
   "id": "a279511c",
   "metadata": {},
   "outputs": [],
   "source": [
    "employment_dummy = pd.get_dummies(t_df[\"employment_type\"], dtype=np.int64)"
   ]
  },
  {
   "cell_type": "code",
   "execution_count": null,
   "id": "9c33bdf6",
   "metadata": {},
   "outputs": [],
   "source": [
    "t_df[\"company_location\"] = label_encoder(t_df[\"company_location\"])"
   ]
  },
  {
   "cell_type": "code",
   "execution_count": null,
   "id": "036aa686",
   "metadata": {},
   "outputs": [],
   "source": [
    "company_dummy = pd.get_dummies(t_df[\"company_size\"], dtype=np.int64)"
   ]
  },
  {
   "cell_type": "code",
   "execution_count": null,
   "id": "cd09a7a1",
   "metadata": {},
   "outputs": [],
   "source": [
    "t_df[\"job_title\"] = label_encoder(t_df[\"job_title\"])"
   ]
  },
  {
   "cell_type": "code",
   "execution_count": null,
   "id": "2fe1cef5",
   "metadata": {},
   "outputs": [],
   "source": [
    "ndf = pd.concat([t_df, experience_dummy, employment_dummy, company_dummy], axis=1)"
   ]
  },
  {
   "cell_type": "code",
   "execution_count": null,
   "id": "ae2fdde1",
   "metadata": {},
   "outputs": [],
   "source": [
    "ndf.drop([\"experience_level\", \"employment_type\", \"company_size\"], axis=1, inplace=True)"
   ]
  },
  {
   "cell_type": "code",
   "execution_count": null,
   "id": "a71aaa13",
   "metadata": {},
   "outputs": [],
   "source": [
    "ndf.head()"
   ]
  },
  {
   "cell_type": "code",
   "execution_count": null,
   "id": "45642492",
   "metadata": {},
   "outputs": [],
   "source": [
    "ndf.info()"
   ]
  },
  {
   "cell_type": "code",
   "execution_count": null,
   "id": "4e1a0cba",
   "metadata": {},
   "outputs": [],
   "source": [
    "X = ndf.drop(\"salary_in_usd\", axis=1)\n",
    "y = ndf[\"salary_in_usd\"]"
   ]
  },
  {
   "cell_type": "code",
   "execution_count": null,
   "id": "30f73521",
   "metadata": {},
   "outputs": [],
   "source": [
    "from sklearn.model_selection import train_test_split\n",
    "\n",
    "X_train, X_test, y_train, y_test = train_test_split(X, y, test_size=0.2, random_state=42)"
   ]
  },
  {
   "cell_type": "code",
   "execution_count": null,
   "id": "31004ca9",
   "metadata": {},
   "outputs": [],
   "source": [
    "from sklearn.linear_model import LinearRegression\n",
    "from sklearn.metrics import r2_score\n",
    "\n",
    "linreg = LinearRegression()\n",
    "linreg.fit(X_train, y_train)"
   ]
  },
  {
   "cell_type": "code",
   "execution_count": null,
   "id": "be2f9c63",
   "metadata": {},
   "outputs": [],
   "source": [
    "ndf.info()"
   ]
  },
  {
   "cell_type": "code",
   "execution_count": null,
   "id": "f9f0c347",
   "metadata": {},
   "outputs": [],
   "source": [
    "linreg_pred = linreg.predict(X_test)"
   ]
  },
  {
   "cell_type": "code",
   "execution_count": null,
   "id": "6ca2b1aa",
   "metadata": {},
   "outputs": [],
   "source": [
    "r2_score(linreg_pred, y_test)"
   ]
  },
  {
   "cell_type": "code",
   "execution_count": null,
   "id": "a8df1315",
   "metadata": {},
   "outputs": [],
   "source": [
    "plt.figure()\n",
    "plt.scatter(y_test, linreg_pred)\n",
    "plt.scatter(y_test, y_test)\n",
    "plt.plot(y_test, y_test)\n",
    "plt.legend([\"Predicted\", \"Original\", \"Regression Line\"])\n",
    "plt.show()"
   ]
  },
  {
   "cell_type": "code",
   "execution_count": null,
   "id": "a57f3cad",
   "metadata": {},
   "outputs": [],
   "source": [
    "from xgboost import XGBRegressor\n",
    "\n",
    "xgb = XGBRegressor()\n",
    "xgb.fit(X_train, y_train)"
   ]
  },
  {
   "cell_type": "code",
   "execution_count": null,
   "id": "f75ad179",
   "metadata": {},
   "outputs": [],
   "source": [
    "xgb_pred = xgb.predict(X_test)"
   ]
  },
  {
   "cell_type": "code",
   "execution_count": null,
   "id": "fdfb72e6",
   "metadata": {},
   "outputs": [],
   "source": [
    "r2_score(xgb_pred, y_test)"
   ]
  },
  {
   "cell_type": "code",
   "execution_count": null,
   "id": "06f697c5",
   "metadata": {},
   "outputs": [],
   "source": [
    "plt.figure()\n",
    "plt.scatter(y_test, xgb_pred)\n",
    "plt.scatter(y_test, y_test)\n",
    "plt.plot(y_test, y_test)\n",
    "plt.legend([\"Predicted\", \"Original\", \"Regression Line\"])\n",
    "plt.show()"
   ]
  },
  {
   "cell_type": "code",
   "execution_count": null,
   "id": "c2b8d1bd",
   "metadata": {},
   "outputs": [],
   "source": [
    "from sklearn.ensemble import ExtraTreesRegressor\n",
    "\n",
    "extra = ExtraTreesRegressor()\n",
    "extra.fit(X_train, y_train)"
   ]
  },
  {
   "cell_type": "code",
   "execution_count": null,
   "id": "e59423aa",
   "metadata": {},
   "outputs": [],
   "source": [
    "extra_pred = extra.predict(X_test)"
   ]
  },
  {
   "cell_type": "code",
   "execution_count": null,
   "id": "8ed8c950",
   "metadata": {},
   "outputs": [],
   "source": [
    "r2_score(extra_pred, y_test)"
   ]
  },
  {
   "cell_type": "code",
   "execution_count": null,
   "id": "dbcf8363",
   "metadata": {},
   "outputs": [],
   "source": [
    "plt.figure()\n",
    "plt.scatter(y_test, extra_pred)\n",
    "plt.scatter(y_test, y_test)\n",
    "plt.plot(y_test, y_test)\n",
    "plt.legend([\"Predicted\", \"Original\", \"Regression Line\"])\n",
    "plt.show()"
   ]
  }
 ],
 "metadata": {
  "kernelspec": {
   "display_name": "Python 3 (ipykernel)",
   "language": "python",
   "name": "python3"
  },
  "language_info": {
   "codemirror_mode": {
    "name": "ipython",
    "version": 3
   },
   "file_extension": ".py",
   "mimetype": "text/x-python",
   "name": "python",
   "nbconvert_exporter": "python",
   "pygments_lexer": "ipython3",
   "version": "3.10.12"
  }
 },
 "nbformat": 4,
 "nbformat_minor": 5
}
